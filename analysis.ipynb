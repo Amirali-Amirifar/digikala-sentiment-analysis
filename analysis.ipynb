{
 "cells": [
  {
   "cell_type": "markdown",
   "metadata": {},
   "source": [
    "### Add libraries"
   ]
  },
  {
   "cell_type": "code",
   "execution_count": 2,
   "metadata": {},
   "outputs": [],
   "source": [
    "import numpy as np\n",
    "import pandas as  pd\n",
    "from tqdm import tqdm\n",
    "\n",
    "from preprocess import data_clean\n"
   ]
  },
  {
   "cell_type": "markdown",
   "metadata": {},
   "source": [
    "### Load project files"
   ]
  },
  {
   "cell_type": "code",
   "execution_count": 2,
   "metadata": {},
   "outputs": [
    {
     "name": "stderr",
     "output_type": "stream",
     "text": [
      "/tmp/ipykernel_104362/95355042.py:2: DtypeWarning: Columns (5) have mixed types. Specify dtype option on import or set low_memory=False.\n",
      "  products_df = pd.read_csv('data/digikala-products.csv')\n"
     ]
    }
   ],
   "source": [
    "comments_df = pd.read_csv('data/digikala-comments.csv')\n",
    "products_df = pd.read_csv('data/digikala-products.csv')\n"
   ]
  },
  {
   "cell_type": "code",
   "execution_count": 3,
   "metadata": {},
   "outputs": [],
   "source": [
    "# Select the first 20,000 comments and save as a tiny workable file\n",
    "comments_df = comments_df[:20000]\n",
    "comments_df.to_csv('data/digikala-comments-tiny.csv', index=False)"
   ]
  },
  {
   "cell_type": "markdown",
   "metadata": {},
   "source": [
    "## Cleaning the data\n",
    "### Working with comments\n",
    "\n",
    "Note:\n",
    " -  rate field should be between 0 to 5"
   ]
  },
  {
   "cell_type": "code",
   "execution_count": 4,
   "metadata": {},
   "outputs": [
    {
     "data": {
      "text/html": [
       "<div>\n",
       "<style scoped>\n",
       "    .dataframe tbody tr th:only-of-type {\n",
       "        vertical-align: middle;\n",
       "    }\n",
       "\n",
       "    .dataframe tbody tr th {\n",
       "        vertical-align: top;\n",
       "    }\n",
       "\n",
       "    .dataframe thead th {\n",
       "        text-align: right;\n",
       "    }\n",
       "</style>\n",
       "<table border=\"1\" class=\"dataframe\">\n",
       "  <thead>\n",
       "    <tr style=\"text-align: right;\">\n",
       "      <th></th>\n",
       "      <th>id</th>\n",
       "      <th>title</th>\n",
       "      <th>body</th>\n",
       "      <th>created_at</th>\n",
       "      <th>rate</th>\n",
       "      <th>recommendation_status</th>\n",
       "      <th>is_buyer</th>\n",
       "      <th>product_id</th>\n",
       "      <th>advantages</th>\n",
       "      <th>disadvantages</th>\n",
       "      <th>likes</th>\n",
       "      <th>dislikes</th>\n",
       "      <th>seller_title</th>\n",
       "      <th>seller_code</th>\n",
       "      <th>true_to_size_rate</th>\n",
       "    </tr>\n",
       "  </thead>\n",
       "  <tbody>\n",
       "    <tr>\n",
       "      <th>4369260</th>\n",
       "      <td>38631814</td>\n",
       "      <td>زیبا</td>\n",
       "      <td>کوچک و با کیفیت</td>\n",
       "      <td>9 شهریور 1401</td>\n",
       "      <td>2500.0</td>\n",
       "      <td>recommended</td>\n",
       "      <td>True</td>\n",
       "      <td>5095301</td>\n",
       "      <td>NaN</td>\n",
       "      <td>NaN</td>\n",
       "      <td>0</td>\n",
       "      <td>0</td>\n",
       "      <td>مستر راد</td>\n",
       "      <td>A4Z54</td>\n",
       "      <td>NaN</td>\n",
       "    </tr>\n",
       "  </tbody>\n",
       "</table>\n",
       "</div>"
      ],
      "text/plain": [
       "               id title             body     created_at    rate  \\\n",
       "4369260  38631814  زیبا  کوچک و با کیفیت  9 شهریور 1401  2500.0   \n",
       "\n",
       "        recommendation_status  is_buyer  product_id advantages disadvantages  \\\n",
       "4369260           recommended      True     5095301        NaN           NaN   \n",
       "\n",
       "         likes  dislikes seller_title seller_code true_to_size_rate  \n",
       "4369260      0         0     مستر راد       A4Z54               NaN  "
      ]
     },
     "execution_count": 4,
     "metadata": {},
     "output_type": "execute_result"
    }
   ],
   "source": [
    "df = comments_df\n",
    "df[df['rate'] >  2000]"
   ]
  },
  {
   "cell_type": "markdown",
   "metadata": {},
   "source": [
    "### TODO: Removing useless columns"
   ]
  },
  {
   "cell_type": "markdown",
   "metadata": {},
   "source": [
    "## Preproccesing"
   ]
  },
  {
   "cell_type": "code",
   "execution_count": 55,
   "metadata": {},
   "outputs": [
    {
     "name": "stderr",
     "output_type": "stream",
     "text": [
      "100%|██████████| 1000/1000 [00:15<00:00, 66.03it/s]\n"
     ]
    }
   ],
   "source": [
    "# Load the data sample\n",
    "corpus = pd.read_csv('data/digikala-comments-tiny.csv')\n",
    "\n",
    "\n",
    "## Processing\n",
    "# drop when body is not string\n",
    "corpus = corpus.dropna(subset=['body'])\n",
    "\n",
    "tqdm.pandas()\n",
    "\n",
    "corpus['Cleaned'] = corpus[:1000]['body'].progress_apply(data_clean.preprocess)\n"
   ]
  },
  {
   "cell_type": "code",
   "execution_count": 53,
   "metadata": {},
   "outputs": [
    {
     "data": {
      "text/html": [
       "<div>\n",
       "<style scoped>\n",
       "    .dataframe tbody tr th:only-of-type {\n",
       "        vertical-align: middle;\n",
       "    }\n",
       "\n",
       "    .dataframe tbody tr th {\n",
       "        vertical-align: top;\n",
       "    }\n",
       "\n",
       "    .dataframe thead th {\n",
       "        text-align: right;\n",
       "    }\n",
       "</style>\n",
       "<table border=\"1\" class=\"dataframe\">\n",
       "  <thead>\n",
       "    <tr style=\"text-align: right;\">\n",
       "      <th></th>\n",
       "      <th>id</th>\n",
       "      <th>title</th>\n",
       "      <th>body</th>\n",
       "      <th>created_at</th>\n",
       "      <th>rate</th>\n",
       "      <th>recommendation_status</th>\n",
       "      <th>is_buyer</th>\n",
       "      <th>product_id</th>\n",
       "      <th>advantages</th>\n",
       "      <th>disadvantages</th>\n",
       "      <th>likes</th>\n",
       "      <th>dislikes</th>\n",
       "      <th>seller_title</th>\n",
       "      <th>seller_code</th>\n",
       "      <th>true_to_size_rate</th>\n",
       "      <th>Cleaned</th>\n",
       "    </tr>\n",
       "  </thead>\n",
       "  <tbody>\n",
       "    <tr>\n",
       "      <th>0</th>\n",
       "      <td>53672599</td>\n",
       "      <td>پیشنهاد نمیشود</td>\n",
       "      <td>به درد نمیخوره</td>\n",
       "      <td>23 شهریور 1402</td>\n",
       "      <td>1.0</td>\n",
       "      <td>not_recommended</td>\n",
       "      <td>True</td>\n",
       "      <td>252058</td>\n",
       "      <td>NaN</td>\n",
       "      <td>NaN</td>\n",
       "      <td>0</td>\n",
       "      <td>0</td>\n",
       "      <td>دیجی‌کالا</td>\n",
       "      <td>5A52N</td>\n",
       "      <td>NaN</td>\n",
       "      <td>به درد نمیخوره</td>\n",
       "    </tr>\n",
       "    <tr>\n",
       "      <th>1</th>\n",
       "      <td>9897229</td>\n",
       "      <td>بسته بندی بد</td>\n",
       "      <td>می‌تونست به عنوان یه کالای فرهنگی بهتر بسته بن...</td>\n",
       "      <td>16 تیر 1399</td>\n",
       "      <td>0.0</td>\n",
       "      <td>recommended</td>\n",
       "      <td>True</td>\n",
       "      <td>252058</td>\n",
       "      <td>['تجربه جالبی بود برام ']</td>\n",
       "      <td>['بسته بندی جالبی نداشت']</td>\n",
       "      <td>1</td>\n",
       "      <td>0</td>\n",
       "      <td>دیجی‌کالا</td>\n",
       "      <td>5A52N</td>\n",
       "      <td>NaN</td>\n",
       "      <td>می‌تونست به عنوان یه کالای فرهنگی بهتر بسته بن...</td>\n",
       "    </tr>\n",
       "    <tr>\n",
       "      <th>2</th>\n",
       "      <td>38074516</td>\n",
       "      <td>برس ریمل</td>\n",
       "      <td>بسته بندیش خوب بود\\r\\n کاربرد و کیفیتشم خیلی خ...</td>\n",
       "      <td>26 مرداد 1401</td>\n",
       "      <td>0.0</td>\n",
       "      <td>recommended</td>\n",
       "      <td>True</td>\n",
       "      <td>3331597</td>\n",
       "      <td>NaN</td>\n",
       "      <td>NaN</td>\n",
       "      <td>0</td>\n",
       "      <td>0</td>\n",
       "      <td>آرالیا بیوتی</td>\n",
       "      <td>ADM47</td>\n",
       "      <td>NaN</td>\n",
       "      <td>بسته بندیش خوب بود کاربرد و کیفیتشم خیلی خوبه ...</td>\n",
       "    </tr>\n",
       "  </tbody>\n",
       "</table>\n",
       "</div>"
      ],
      "text/plain": [
       "         id           title  \\\n",
       "0  53672599  پیشنهاد نمیشود   \n",
       "1   9897229    بسته بندی بد   \n",
       "2  38074516        برس ریمل   \n",
       "\n",
       "                                                body      created_at  rate  \\\n",
       "0                                    به درد نمیخوره   23 شهریور 1402   1.0   \n",
       "1  می‌تونست به عنوان یه کالای فرهنگی بهتر بسته بن...     16 تیر 1399   0.0   \n",
       "2  بسته بندیش خوب بود\\r\\n کاربرد و کیفیتشم خیلی خ...   26 مرداد 1401   0.0   \n",
       "\n",
       "  recommendation_status  is_buyer  product_id                 advantages  \\\n",
       "0       not_recommended      True      252058                        NaN   \n",
       "1           recommended      True      252058  ['تجربه جالبی بود برام ']   \n",
       "2           recommended      True     3331597                        NaN   \n",
       "\n",
       "               disadvantages  likes  dislikes  seller_title seller_code  \\\n",
       "0                        NaN      0         0     دیجی‌کالا       5A52N   \n",
       "1  ['بسته بندی جالبی نداشت']      1         0     دیجی‌کالا       5A52N   \n",
       "2                        NaN      0         0  آرالیا بیوتی       ADM47   \n",
       "\n",
       "  true_to_size_rate                                            Cleaned  \n",
       "0               NaN                                     به درد نمیخوره  \n",
       "1               NaN  می‌تونست به عنوان یه کالای فرهنگی بهتر بسته بن...  \n",
       "2               NaN  بسته بندیش خوب بود کاربرد و کیفیتشم خیلی خوبه ...  "
      ]
     },
     "execution_count": 53,
     "metadata": {},
     "output_type": "execute_result"
    }
   ],
   "source": [
    "corpus.head(3)\n"
   ]
  },
  {
   "cell_type": "code",
   "execution_count": null,
   "metadata": {},
   "outputs": [],
   "source": []
  }
 ],
 "metadata": {
  "kernelspec": {
   "display_name": ".venv",
   "language": "python",
   "name": "python3"
  },
  "language_info": {
   "codemirror_mode": {
    "name": "ipython",
    "version": 3
   },
   "file_extension": ".py",
   "mimetype": "text/x-python",
   "name": "python",
   "nbconvert_exporter": "python",
   "pygments_lexer": "ipython3",
   "version": "3.12.2"
  }
 },
 "nbformat": 4,
 "nbformat_minor": 2
}
